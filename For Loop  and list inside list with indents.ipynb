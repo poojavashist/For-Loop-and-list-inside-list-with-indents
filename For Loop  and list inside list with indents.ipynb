{
 "cells": [
  {
   "cell_type": "markdown",
   "metadata": {},
   "source": [
    "# For Loop  and list inside list with indents"
   ]
  },
  {
   "cell_type": "code",
   "execution_count": 14,
   "metadata": {},
   "outputs": [
    {
     "name": "stdout",
     "output_type": "stream",
     "text": [
      "['pen', 'pencil', 'notebook', 'colors']\n",
      "pen[things] [stationary]\n",
      "['pen', 'pencil', 'notebook', 'colors']\n",
      "pencil[things] [stationary]\n",
      "['pen', 'pencil', 'notebook', 'colors']\n",
      "notebook[things] [stationary]\n",
      "['pen', 'pencil', 'notebook', 'colors']\n",
      "colors[things] [stationary]\n"
     ]
    }
   ],
   "source": [
    "things = ['pen', 'pencil', 'notebook','colors']\n",
    "stationary = ['local made', 'branded']\n",
    "\n",
    "for thing in things: #add new items in the previous list.\n",
    "    print(things)      #old list\n",
    "   \n",
    "    print(thing +'[things]','[stationary]')   # colaborate the list in the previous list.\n",
    "\n",
    "    "
   ]
  },
  {
   "cell_type": "code",
   "execution_count": null,
   "metadata": {},
   "outputs": [],
   "source": []
  }
 ],
 "metadata": {
  "kernelspec": {
   "display_name": "Python 3",
   "language": "python",
   "name": "python3"
  },
  "language_info": {
   "codemirror_mode": {
    "name": "ipython",
    "version": 3
   },
   "file_extension": ".py",
   "mimetype": "text/x-python",
   "name": "python",
   "nbconvert_exporter": "python",
   "pygments_lexer": "ipython3",
   "version": "3.8.3"
  }
 },
 "nbformat": 4,
 "nbformat_minor": 4
}
